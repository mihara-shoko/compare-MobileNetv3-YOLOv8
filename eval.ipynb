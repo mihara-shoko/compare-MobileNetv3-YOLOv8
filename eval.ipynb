{
  "nbformat": 4,
  "nbformat_minor": 0,
  "metadata": {
    "colab": {
      "provenance": []
    },
    "kernelspec": {
      "name": "python3",
      "display_name": "Python 3"
    },
    "language_info": {
      "name": "python"
    }
  },
  "cells": [
    {
      "cell_type": "code",
      "execution_count": 1,
      "metadata": {
        "colab": {
          "base_uri": "https://localhost:8080/"
        },
        "id": "t-PTu07Sc6Lv",
        "outputId": "65e8f6c1-8474-4a0b-d0ce-f826b205fc89"
      },
      "outputs": [
        {
          "output_type": "stream",
          "name": "stdout",
          "text": [
            "/content/drive/MyDrive/agender/model/Secondary\n"
          ]
        }
      ],
      "source": [
        "%cd /content/drive/MyDrive/agender/model/Secondary"
      ]
    },
    {
      "cell_type": "code",
      "source": [
        "import os\n",
        "import cv2\n",
        "import matplotlib.pyplot as plt\n",
        "import numpy as np\n",
        "from glob import glob\n",
        "import pandas as pd\n",
        "from PIL import Image\n",
        "import time\n",
        "from sklearn.metrics import accuracy_score\n",
        "from sklearn.metrics import confusion_matrix\n",
        "from sklearn.metrics import mean_absolute_error\n",
        "import seaborn as sns\n",
        "import math\n",
        "import torch"
      ],
      "metadata": {
        "id": "gjkdypbadJ3A"
      },
      "execution_count": 66,
      "outputs": []
    },
    {
      "cell_type": "code",
      "source": [
        "# テストデータ\n",
        "img_files_female = glob(\"/content/drive/MyDrive/agender/model/Secondary/Dataset/All-Age-Faces-Dataset/split_dataset_gender/test/female/*\")\n",
        "img_files_male = glob(\"/content/drive/MyDrive/agender/model/Secondary/Dataset/All-Age-Faces-Dataset/split_dataset_gender/test/male/*\")\n",
        "len(img_files_female), len(img_files_male)"
      ],
      "metadata": {
        "colab": {
          "base_uri": "https://localhost:8080/"
        },
        "id": "Cr3GxgBEeHjW",
        "outputId": "8578f1cc-d917-4120-f0a0-cfe6e30c097b"
      },
      "execution_count": 44,
      "outputs": [
        {
          "output_type": "execute_result",
          "data": {
            "text/plain": [
              "(287, 287)"
            ]
          },
          "metadata": {},
          "execution_count": 44
        }
      ]
    },
    {
      "cell_type": "code",
      "source": [],
      "metadata": {
        "id": "wcOvXT2IiDPQ"
      },
      "execution_count": null,
      "outputs": []
    },
    {
      "cell_type": "markdown",
      "source": [
        "# YOLOv8s"
      ],
      "metadata": {
        "id": "LQalRi5yg8-K"
      }
    },
    {
      "cell_type": "code",
      "source": [
        "def get_img_yolo(img_file):\n",
        "  img_size = 224\n",
        "  stride = 32\n",
        "\n",
        "  img = cv2.imread(img_file)\n",
        "  img = cv2.cvtColor(img, cv2.COLOR_BGR2RGB)\n",
        "  imh, imw = img.shape[:2]\n",
        "  r = min(img_size / imh, img_size / imw)\n",
        "  h, w = round(imh * r), round(imw * r)\n",
        "  hs, ws = (math.ceil(x / stride) * stride for x in (h, w))\n",
        "  top, left = round((hs - h) / 2 - 0.1), round((ws - w) / 2 - 0.1)\n",
        "  img_pad = np.full((img_size, img_size, 3), 114, dtype=img.dtype)\n",
        "  img_pad[top:top + h, left:left + w] = cv2.resize(img, (w, h), interpolation=cv2.INTER_LINEAR)\n",
        "\n",
        "\n",
        "  img_norm = img_pad/255\n",
        "\n",
        "  face = np.empty((1, img_size, img_size, 3))\n",
        "  face[0,:,:,:] = img_norm\n",
        "  face = np.transpose(face, (0, 3, 1, 2))\n",
        "\n",
        "  return torch.from_numpy(face.astype(np.float32)).clone()\n"
      ],
      "metadata": {
        "id": "ZIweMhtle7rc"
      },
      "execution_count": 57,
      "outputs": []
    },
    {
      "cell_type": "code",
      "source": [
        "def prediction_yolo(img_files, model):\n",
        "\n",
        "  pred_list = []\n",
        "  gt_list = []\n",
        "\n",
        "  for img_file in img_files:\n",
        "    img = get_img_yolo(img_file)\n",
        "    pred = model(img)\n",
        "    class_id = np.argmax(pred)\n",
        "\n",
        "    if class_id == 0:\n",
        "      pred_gender = \"female\"\n",
        "    else:\n",
        "      pred_gender = \"male\"\n",
        "\n",
        "    if int(os.path.basename(img_file).split(\"A\")[0]) <= 7380:\n",
        "      gt_gender = \"female\"\n",
        "    else:\n",
        "      gt_gender = \"male\"\n",
        "\n",
        "    pred_list.append(pred_gender)\n",
        "    gt_list.append(gt_gender)\n",
        "\n",
        "  return gt_list, pred_list"
      ],
      "metadata": {
        "id": "C0yalzHWbMBt"
      },
      "execution_count": 45,
      "outputs": []
    },
    {
      "cell_type": "code",
      "source": [
        "def cal_accuracy(gt, pred, is_confusion_matrix):\n",
        "  accuracy = accuracy_score(gt, pred)\n",
        "  print(\"accuracy: \", accuracy)\n",
        "\n",
        "  if is_confusion_matrix:\n",
        "    cm = confusion_matrix(gt, pred, labels=[\"female\", \"male\"])\n",
        "    sns.heatmap(cm, annot=True, cmap='Blues')"
      ],
      "metadata": {
        "id": "bEUv6oEFeD1n"
      },
      "execution_count": 20,
      "outputs": []
    },
    {
      "cell_type": "code",
      "source": [
        "!pip3 install ultralytics\n",
        "\n",
        "from ultralytics import YOLO\n",
        "import torch"
      ],
      "metadata": {
        "id": "V0wPqGNYguqL"
      },
      "execution_count": null,
      "outputs": []
    },
    {
      "cell_type": "code",
      "source": [
        "# load model\n",
        "model_file_path = \"/content/drive/MyDrive/agender/model/Secondary/YOLOv8/ultralytics/runs/classify/gender2/weights/best.pt\"\n",
        "model = YOLO(model_file_path)\n",
        "\n",
        "# inference\n",
        "# female\n",
        "print(\"female\")\n",
        "gt_female, pred_female = prediction_yolo(img_files_female, model.model.eval())\n",
        "cal_accuracy(gt_female, pred_female, is_confusion_matrix=False)\n",
        "# male\n",
        "print(\"male\")\n",
        "gt_male, pred_male = prediction_yolo(img_files_male, model.model.eval())\n",
        "cal_accuracy(gt_male, pred_male, is_confusion_matrix=False)\n",
        "# all\n",
        "print(\"all\")\n",
        "gt_female.extend(gt_male)\n",
        "pred_female.extend(pred_male)\n",
        "cal_accuracy(gt_female, pred_female, is_confusion_matrix=True)"
      ],
      "metadata": {
        "colab": {
          "base_uri": "https://localhost:8080/",
          "height": 537
        },
        "id": "6SJBhqxnhPKR",
        "outputId": "a7e510e5-5778-4b89-9c48-75ad463bd039"
      },
      "execution_count": 64,
      "outputs": [
        {
          "output_type": "stream",
          "name": "stdout",
          "text": [
            "female\n",
            "accuracy:  0.9407665505226481\n",
            "male\n",
            "accuracy:  0.8954703832752613\n",
            "all\n",
            "accuracy:  0.9181184668989547\n"
          ]
        },
        {
          "output_type": "display_data",
          "data": {
            "text/plain": [
              "<Figure size 640x480 with 2 Axes>"
            ],
            "image/png": "[encoded data removed]"
          },
          "metadata": {}
        }
      ]
    },
    {
      "cell_type": "code",
      "source": [],
      "metadata": {
        "id": "DuAJEuXhjZ7J"
      },
      "execution_count": null,
      "outputs": []
    },
    {
      "cell_type": "markdown",
      "source": [
        "# MobileNetv3 small"
      ],
      "metadata": {
        "id": "ZFkrx06W2ncf"
      }
    },
    {
      "cell_type": "code",
      "source": [
        "import tensorflow as tf"
      ],
      "metadata": {
        "id": "po9C7KT277is"
      },
      "execution_count": 68,
      "outputs": []
    },
    {
      "cell_type": "code",
      "source": [
        "def get_img_mnv3(img_file):\n",
        "  img_size = 224\n",
        "\n",
        "  img = Image.open(img_file)\n",
        "\n",
        "  face = np.empty((1, img_size, img_size, 3))\n",
        "  face[0,:,:,:] = img.resize((img_size,img_size), resample=Image.NEAREST)\n",
        "\n",
        "  return face"
      ],
      "metadata": {
        "id": "da7zznaL2pcY"
      },
      "execution_count": 78,
      "outputs": []
    },
    {
      "cell_type": "code",
      "source": [
        "def prediction_mnv3(img_files, model):\n",
        "\n",
        "  pred_list = []\n",
        "  gt_list = []\n",
        "\n",
        "  for img_file in img_files:\n",
        "    img = get_img_mnv3(img_file)\n",
        "    pred = model.predict(img, verbose=0)\n",
        "\n",
        "    if pred < 0.5:\n",
        "      pred_gender = \"female\"\n",
        "    else:\n",
        "      pred_gender = \"male\"\n",
        "\n",
        "    if int(os.path.basename(img_file).split(\"A\")[0]) <= 7380:\n",
        "      gt_gender = \"female\"\n",
        "    else:\n",
        "      gt_gender = \"male\"\n",
        "\n",
        "    pred_list.append(pred_gender)\n",
        "    gt_list.append(gt_gender)\n",
        "\n",
        "  return gt_list, pred_list"
      ],
      "metadata": {
        "id": "qZks1A3D4iys"
      },
      "execution_count": 80,
      "outputs": []
    },
    {
      "cell_type": "code",
      "source": [
        "# load model\n",
        "model_file_path = \"/content/drive/MyDrive/agender/model/Secondary/MobileNetv3/20230603_TF/247-0.92969-0.64230\"\n",
        "model = tf.keras.models.load_model(model_file_path)\n",
        "\n",
        "# inference\n",
        "# female\n",
        "print(\"female\")\n",
        "gt_female, pred_female = prediction_mnv3(img_files_female, model)\n",
        "cal_accuracy(gt_female, pred_female, is_confusion_matrix=False)\n",
        "# male\n",
        "print(\"male\")\n",
        "gt_male, pred_male = prediction_mnv3(img_files_male, model)\n",
        "cal_accuracy(gt_male, pred_male, is_confusion_matrix=False)\n",
        "# all\n",
        "print(\"all\")\n",
        "gt_female.extend(gt_male)\n",
        "pred_female.extend(pred_male)\n",
        "cal_accuracy(gt_female, pred_female, is_confusion_matrix=True)"
      ],
      "metadata": {
        "colab": {
          "base_uri": "https://localhost:8080/",
          "height": 537
        },
        "id": "1izMA4Gg6CSG",
        "outputId": "06b5f335-e2a7-4eeb-d69d-a34fd0506f35"
      },
      "execution_count": 81,
      "outputs": [
        {
          "output_type": "stream",
          "name": "stdout",
          "text": [
            "female\n",
            "accuracy:  0.8885017421602788\n",
            "male\n",
            "accuracy:  0.9442508710801394\n",
            "all\n",
            "accuracy:  0.9163763066202091\n"
          ]
        },
        {
          "output_type": "display_data",
          "data": {
            "text/plain": [
              "<Figure size 640x480 with 2 Axes>"
            ],
            "image/png": "[encoded data removed]"
          },
          "metadata": {}
        }
      ]
    }
  ]
}